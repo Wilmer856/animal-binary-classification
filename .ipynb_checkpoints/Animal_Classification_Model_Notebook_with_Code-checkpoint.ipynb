{
 "cells": [
  {
   "cell_type": "markdown",
   "id": "f3e49c42",
   "metadata": {},
   "source": [
    "# Animal Classification Model Notebook\n",
    "\n",
    "This notebook demonstrates the creation, training, and evaluation of a machine learning model designed to classify images of animals from the North East United States into two categories: domestic animals and predators. The model uses TensorFlow and Keras, leveraging a pre-trained InceptionV3 model for feature extraction.\n"
   ]
  },
  {
   "cell_type": "code",
   "execution_count": null,
   "id": "d91989f7",
   "metadata": {},
   "outputs": [],
   "source": [
    "\n",
    "import os\n",
    "import numpy as np\n",
    "import pandas as pd\n",
    "import matplotlib.pyplot as plt\n",
    "import seaborn as sns\n",
    "import cv2\n",
    "import tensorflow as tf\n",
    "import albumentations as Alb\n",
    "import joblib\n",
    "from tensorflow import keras\n",
    "from keras import layers\n",
    "from sklearn.model_selection import train_test_split\n",
    "from sklearn.preprocessing import LabelEncoder\n",
    "from tensorflow.keras.applications.inception_v3 import InceptionV3\n",
    "from keras.callbacks import EarlyStopping, ReduceLROnPlateau\n"
   ]
  },
  {
   "cell_type": "markdown",
   "id": "2dd7a4d4",
   "metadata": {},
   "source": [
    "## Data Preparation"
   ]
  },
  {
   "cell_type": "code",
   "execution_count": null,
   "id": "5ab64a82",
   "metadata": {},
   "outputs": [],
   "source": [
    "\n",
    "path = \"newAnimals/\"\n",
    "labels = []\n",
    "images = []\n",
    "labelImageMap = {}\n",
    "\n",
    "with open('binaryTest.txt', 'r') as animalFile:\n",
    "    for animalType in animalFile:\n",
    "        labels.append(animalType.strip())\n",
    "\n",
    "for label in labels:\n",
    "    for animalFile in os.listdir(os.path.join(path, label)):\n",
    "        animalFile = os.path.join(path, label, animalFile)\n",
    "        images.append(animalFile)\n",
    "        labelImageMap[animalFile] = label\n",
    "\n",
    "df = pd.DataFrame(index=labelImageMap.keys(), data=labelImageMap.values(), columns=['type'])\n",
    "encoder = LabelEncoder()\n",
    "df['type'] = encoder.fit_transform(df['type'])\n"
   ]
  },
  {
   "cell_type": "markdown",
   "id": "6a544292",
   "metadata": {},
   "source": [
    "## Model Creation"
   ]
  },
  {
   "cell_type": "code",
   "execution_count": null,
   "id": "f391236e",
   "metadata": {},
   "outputs": [],
   "source": [
    "\n",
    "pre_trained_model = InceptionV3(input_shape=(224, 224, 3), include_top=False, weights='imagenet')\n",
    "for layer in pre_trained_model.layers: layer.trainable = False\n",
    "mixedSeven = pre_trained_model.get_layer('mixed7')\n",
    "mixedSevenOutput = mixedSeven.output\n",
    "\n",
    "arch = layers.Flatten()(mixedSevenOutput)\n",
    "arch = layers.Dense(512, activation='relu')(arch)\n",
    "arch = layers.BatchNormalization()(arch)\n",
    "arch = layers.Dense(256, activation='relu')(arch)\n",
    "arch = layers.Dropout(0.3)(arch)\n",
    "arch = layers.BatchNormalization()(arch)\n",
    "output = layers.Dense(1, activation='sigmoid')(arch)\n",
    "model = keras.Model(pre_trained_model.input, output)\n",
    "model.compile(optimizer='adam', loss='binary_crossentropy', metrics=['accuracy'])\n"
   ]
  },
  {
   "cell_type": "markdown",
   "id": "b96763c1",
   "metadata": {},
   "source": [
    "## Training"
   ]
  },
  {
   "cell_type": "code",
   "execution_count": null,
   "id": "4465a83a",
   "metadata": {},
   "outputs": [],
   "source": [
    "\n",
    "earlyStop = EarlyStopping(patience=5, monitor='val_accuracy', restore_best_weights=True)\n",
    "learningRate = ReduceLROnPlateau(monitor='val_loss', patience=2, factor=0.5, verbose=1)\n",
    "model.fit(train_data, validation_data=val_data, epochs=10, callbacks=[earlyStop, learningRate])\n"
   ]
  },
  {
   "cell_type": "markdown",
   "id": "35f039e4",
   "metadata": {},
   "source": [
    "## Utility Functions"
   ]
  },
  {
   "cell_type": "code",
   "execution_count": null,
   "id": "4e8670a7",
   "metadata": {},
   "outputs": [],
   "source": [
    "\n",
    "def preprocess_unseen_data(image_bytes):\n",
    "    img = tf.image.decode_jpeg(image_bytes, channels=3)\n",
    "    img = tf.image.resize(img, [224, 224])\n",
    "    img = tf.cast(img, tf.float32) / 255.0\n",
    "    return img\n",
    "\n",
    "def predict_image(image_bytes, interpreter, encoder):\n",
    "    processed_img = preprocess_unseen_data(image_bytes)\n",
    "    interpreter.allocate_tensors()\n",
    "    input_details = interpreter.get_input_details()\n",
    "    output_details = interpreter.get_output_details()\n",
    "    unseen_data_tensor = np.expand_dims(processed_img, axis=0)\n",
    "    interpreter.set_tensor(input_details[0]['index'], unseen_data_tensor)\n",
    "    interpreter.invoke()\n",
    "\n",
    "    prediction = interpreter.get_tensor(output_details[0]['index'])\n",
    "    predicted_label = post_process_prediction(prediction, encoder)\n",
    "    predicted_prob = np.max(prediction, axis=1).tolist()\n",
    "\n",
    "    if predicted_prob[0] < 0.50:\n",
    "        predicted_prob[0] = 1 - predicted_prob[0]\n",
    "\n",
    "    likelihood = get_likelihood(predicted_prob[0])\n",
    "\n",
    "    result_dict = {\"prediction\": predicted_label,\n",
    "                   \"probability\": round(predicted_prob[0], 4),\n",
    "                   \"likelihood\": likelihood}\n",
    "    return result_dict\n"
   ]
  },
  {
   "cell_type": "markdown",
   "id": "61d9d4c5",
   "metadata": {},
   "source": [
    "asdf"
   ]
  }
 ],
 "metadata": {
  "kernelspec": {
   "display_name": "Python 3 (ipykernel)",
   "language": "python",
   "name": "python3"
  },
  "language_info": {
   "codemirror_mode": {
    "name": "ipython",
    "version": 3
   },
   "file_extension": ".py",
   "mimetype": "text/x-python",
   "name": "python",
   "nbconvert_exporter": "python",
   "pygments_lexer": "ipython3",
   "version": "3.11.5"
  }
 },
 "nbformat": 4,
 "nbformat_minor": 5
}
